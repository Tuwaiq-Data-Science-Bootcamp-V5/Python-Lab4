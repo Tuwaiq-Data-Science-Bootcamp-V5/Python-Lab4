{
 "cells": [
  {
   "cell_type": "code",
   "execution_count": 1,
   "id": "8db9be55",
   "metadata": {},
   "outputs": [
    {
     "name": "stdout",
     "output_type": "stream",
     "text": [
      "Enter your name: zayed\n",
      "Enter your age: 5\n",
      "Kid\n",
      "Do you want to repeat the process (yes/no)? 2\n"
     ]
    }
   ],
   "source": [
    "def main():\n",
    "    while True:\n",
    "        try:\n",
    "            name = input(\"Enter your name: \")\n",
    "            age = int(input(\"Enter your age: \"))\n",
    "\n",
    "            if 0 <= age <= 6:\n",
    "                print(\"Kid\")\n",
    "            elif age < 0:\n",
    "                print(\"Wrong age value, you cannot enter a value 0 or less.\")\n",
    "            else:\n",
    "                total_cost = 0\n",
    "                num_items = int(input(\"Enter the number of items you want to buy: \"))\n",
    "\n",
    "                for i in range(num_items):\n",
    "                    item_name = input(\"Enter item name: \")\n",
    "                    item_price = float(input(\"Enter item price: \"))\n",
    "                    item_quantity = int(input(\"Enter item quantity: \"))\n",
    "\n",
    "                    item_cost = item_price * item_quantity\n",
    "                    total_cost += item_cost\n",
    "\n",
    "                    print(f\"Item cost: {item_cost}\")\n",
    "                    print(f\"Total cost: {total_cost}\")\n",
    "\n",
    "                if total_cost > 200:\n",
    "                    discount = total_cost * 0.2\n",
    "                    total_cost -= discount\n",
    "                    print(f\"Discount applied: {discount}\")\n",
    "                    print(f\"Final total cost: {total_cost}\")\n",
    "\n",
    "        except ValueError:\n",
    "            print(\"Invalid input. Please enter a valid value.\")\n",
    "\n",
    "        repeat = input(\"Do you want to repeat the process (yes/no)? \")\n",
    "        if repeat.lower() != \"yes\":\n",
    "            break\n",
    "\n",
    "if __name__ == \"__main__\":\n",
    "    main()"
   ]
  },
  {
   "cell_type": "code",
   "execution_count": null,
   "id": "c7a212a8",
   "metadata": {},
   "outputs": [],
   "source": []
  }
 ],
 "metadata": {
  "kernelspec": {
   "display_name": "Python 3 (ipykernel)",
   "language": "python",
   "name": "python3"
  },
  "language_info": {
   "codemirror_mode": {
    "name": "ipython",
    "version": 3
   },
   "file_extension": ".py",
   "mimetype": "text/x-python",
   "name": "python",
   "nbconvert_exporter": "python",
   "pygments_lexer": "ipython3",
   "version": "3.11.5"
  }
 },
 "nbformat": 4,
 "nbformat_minor": 5
}
