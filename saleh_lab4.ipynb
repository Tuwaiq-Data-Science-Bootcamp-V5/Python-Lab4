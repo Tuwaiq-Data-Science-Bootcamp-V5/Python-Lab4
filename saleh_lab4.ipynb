{
 "cells": [
  {
   "cell_type": "code",
   "execution_count": null,
   "id": "cb70b7b4-9484-46c3-9455-67d817908418",
   "metadata": {},
   "outputs": [],
   "source": [
    "while True:\n",
    "    try:\n",
    "        username=input(\"Enter your name\\n\")\n",
    "        age=int(input(\"Enter your age\\n\"))\n",
    "\n",
    "        if age in range(0,7):\n",
    "            print(\"kid\")\n",
    "        elif age <0:\n",
    "            print(\"Wrong age value, you can not enter value 0 or less\")\n",
    "        elif age>6:\n",
    "            total_cost=0\n",
    "            num_items=int(input(\"How many items do you want to buy?\\n\"))\n",
    "            for i in range(num_items):\n",
    "                item_name=input(\"enter item name\\n\")\n",
    "                item_price=int(input(\"Enter price for item\\n\"))\n",
    "                item_quantity=int(input(\"Enter quantity for Each item\\n\"))\n",
    "                item_cost=item_price*item_quantity\n",
    "                total_cost+=item_cost\n",
    "                print(f'item cost: {item_cost} , total cost: {total_cost}')\n",
    "            if total_cost>200:\n",
    "                x=total_cost*0.2\n",
    "                total_cost=total_cost-x\n",
    "                print(f'congtrats you got discount , new total cost is: {total_cost}')\n",
    "\n",
    "    except Exception as e:\n",
    "        print(e)\n",
    "    cont=input(\"if you want to repeat type yes if you want to quit type no\\n\")\n",
    "    if cont == \"no\":\n",
    "        break"
   ]
  }
 ],
 "metadata": {
  "kernelspec": {
   "display_name": "Python 3 (ipykernel)",
   "language": "python",
   "name": "python3"
  },
  "language_info": {
   "codemirror_mode": {
    "name": "ipython",
    "version": 3
   },
   "file_extension": ".py",
   "mimetype": "text/x-python",
   "name": "python",
   "nbconvert_exporter": "python",
   "pygments_lexer": "ipython3",
   "version": "3.10.11"
  }
 },
 "nbformat": 4,
 "nbformat_minor": 5
}
