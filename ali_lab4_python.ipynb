{
 "cells": [
  {
   "cell_type": "code",
   "execution_count": 1,
   "id": "2486e1d1-1105-435e-b4e4-20b63aa20dce",
   "metadata": {},
   "outputs": [
    {
     "name": "stdin",
     "output_type": "stream",
     "text": [
      "enter your name : ali\n",
      "enter your age : 22\n",
      "enter the number of items that he wants to buy : 1\n",
      "enter the item name : iphone\n",
      "enter the item price : 2000\n",
      "enter the item quantity : 1\n"
     ]
    },
    {
     "name": "stdout",
     "output_type": "stream",
     "text": [
      "the item cost is :2000 \n",
      "the total cost is :2000\n",
      "discount 20% this is because you special customer!! the new total cost is 1600.0\n"
     ]
    },
    {
     "name": "stdin",
     "output_type": "stream",
     "text": [
      "want to repeat the same process or not(y/n): n\n"
     ]
    }
   ],
   "source": [
    "while True :\n",
    "      try :\n",
    "          name = input(\"enter your name :\")\n",
    "          age = int(input(\"enter your age :\"))\n",
    "          if age >= 0 and age <=6:\n",
    "            print(\"Kid\")\n",
    "          elif age < 0 :\n",
    "            print(\"Wrong age value, you can not enter value 0 or less.\")\n",
    "          elif age > 6:\n",
    "            total_cost =0 \n",
    "            num_items =int(input(\"enter the number of items that he wants to buy :\"))\n",
    "            for i in range(num_items):\n",
    "              it_name = input(\"enter the item name :\")\n",
    "              it_price = int(input(\"enter the item price :\"))\n",
    "              it_quantity = int(input(\"enter the item quantity :\"))\n",
    "              item_cost = it_price*it_quantity\n",
    "              total_cost+=item_cost\n",
    "              print(f\"the item cost is :{item_cost} \\nthe total cost is :{total_cost}\")\n",
    "            if total_cost > 200 :\n",
    "              x = total_cost * 0.2\n",
    "              total_cost = total_cost - x\n",
    "              print(f\"discount 20% this is because you special customer!! the new total cost is {total_cost}\")\n",
    "      except Exception as e :\n",
    "        print(e)\n",
    "      y_n =input(\"want to repeat the same process or not(y/n):\")\n",
    "      if y_n == \"y\":\n",
    "        continue\n",
    "      else :\n",
    "         break"
   ]
  },
  {
   "cell_type": "code",
   "execution_count": null,
   "id": "17eae898-9974-4177-93c2-a640590b1b92",
   "metadata": {},
   "outputs": [],
   "source": []
  }
 ],
 "metadata": {
  "kernelspec": {
   "display_name": "Python 3 (ipykernel)",
   "language": "python",
   "name": "python3"
  },
  "language_info": {
   "codemirror_mode": {
    "name": "ipython",
    "version": 3
   },
   "file_extension": ".py",
   "mimetype": "text/x-python",
   "name": "python",
   "nbconvert_exporter": "python",
   "pygments_lexer": "ipython3",
   "version": "3.12.0"
  }
 },
 "nbformat": 4,
 "nbformat_minor": 5
}
