{
  "nbformat": 4,
  "nbformat_minor": 0,
  "metadata": {
    "colab": {
      "provenance": []
    },
    "kernelspec": {
      "name": "python3",
      "display_name": "Python 3"
    },
    "language_info": {
      "name": "python"
    }
  },
  "cells": [
    {
      "cell_type": "code",
      "source": [
        "while True:\n",
        "    try:\n",
        "        name = str(input(\"Kindly, enter your name:\"))\n",
        "        age = int(input(\"Kindly, enter your age:\"))\n",
        "        if age in range(0, 6):\n",
        "            print(\"Kid\")\n",
        "        elif age < 0:\n",
        "            print(\"Wrong age value, you cannot enter a value 0 or less.\")\n",
        "        elif age > 6:\n",
        "            totalCost = 0\n",
        "            items = int(input(\"Kindly, enter the number of items you want to buy:\"))\n",
        "            for i in range(items):\n",
        "                itemName = str(input(\"Kindly, enter the name of the item you want to buy:\"))\n",
        "                itemPrice = float(input(\"Kindly, enter the price of the item you want to buy:\"))\n",
        "                itemQuantity = int(input(\"Kindly, enter the quantity of the item you want to buy:\"))\n",
        "                itemCost = itemQuantity * itemPrice\n",
        "                totalCost += itemCost\n",
        "                print(f\"The item cost is: {itemCost:.2f}, and the total cost is: {totalCost:.2f}\")\n",
        "            if totalCost > 200:\n",
        "                discount = totalCost - (20 / 100) * totalCost\n",
        "                print(\"You have earned a 20% discount! Your new cost is: \", discount)\n",
        "    except ValueError:\n",
        "        print(\"Invalid input. Please enter the right data type.\")\n",
        "    repeat = input(\"Do you want to repeat the process?\")\n",
        "    if repeat.lower() != \"yes\":\n",
        "        break"
      ],
      "metadata": {
        "colab": {
          "base_uri": "https://localhost:8080/"
        },
        "id": "f5NbZ6RetkTa",
        "outputId": "bdd4d306-c178-4712-dc0e-2d9c420fb417"
      },
      "execution_count": 22,
      "outputs": [
        {
          "name": "stdout",
          "output_type": "stream",
          "text": [
            "Kindly, enter your name:Yasser\n",
            "Kindly, enter your age:22\n",
            "Kindly, enter the number of items you want to buy:1\n",
            "Kindly, enter the name of the item you want to buy:GPU\n",
            "Kindly, enter the price of the item you want to buy:2399\n",
            "Kindly, enter the quantity of the item you want to buy:1\n",
            "The item cost is: 2399.00, and the total cost is: 2399.00\n",
            "You have earned a 20% discount! Your new cost is:  1919.2\n",
            "Do you want to repeat the process?NO\n"
          ]
        }
      ]
    },
    {
      "cell_type": "code",
      "source": [],
      "metadata": {
        "id": "UZ4P4j6vsVUk"
      },
      "execution_count": null,
      "outputs": []
    }
  ]
}