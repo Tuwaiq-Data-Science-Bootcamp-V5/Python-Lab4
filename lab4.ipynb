{
 "cells": [
  {
   "cell_type": "code",
   "execution_count": null,
   "id": "beadf626-fa86-43e8-aba6-84fde02c8747",
   "metadata": {},
   "outputs": [
    {
     "name": "stdin",
     "output_type": "stream",
     "text": [
      "enter your name : s\n",
      "enter your age : 2\n"
     ]
    },
    {
     "name": "stdout",
     "output_type": "stream",
     "text": [
      "kid\n"
     ]
    },
    {
     "name": "stdin",
     "output_type": "stream",
     "text": [
      "enter your name : s\n",
      "enter your age : 7\n",
      "how many items you want to buy? 2\n",
      "enter the item name: a\n",
      "enter the item price: 2\n",
      "enter the item quantity: 3\n"
     ]
    },
    {
     "name": "stdout",
     "output_type": "stream",
     "text": [
      "total cost = 6\n",
      "item cost = 6\n"
     ]
    }
   ],
   "source": [
    "total_cost = 0\n",
    "while (1):\n",
    "    name = input(\"enter your name :\")\n",
    "    try:\n",
    "        age = int(input(\"enter your age :\"))\n",
    "    \n",
    "    except:\n",
    "        print('Ops!! Something wrong..')\n",
    "    \n",
    "    if age <= 0:\n",
    "        \n",
    "        print(\"Wrong age value, you can not enter value 0 or less.\")\n",
    "    \n",
    "    elif age < 6:\n",
    "    \n",
    "        print(\"kid\")\n",
    "    \n",
    "    else:\n",
    "    \n",
    "        x = int(input(\"how many items you want to buy?\"))\n",
    "        \n",
    "        for item in range (x):\n",
    "        \n",
    "            item_name = input(\"enter the item name:\")\n",
    "            \n",
    "            item_price = int(input(\"enter the item price:\"))\n",
    "            \n",
    "            item_quantity = int(input(\"enter the item quantity:\"))\n",
    "            \n",
    "            item_cost = item_price*item_quantity\n",
    "            \n",
    "            total_cost = total_cost + item_cost\n",
    "            \n",
    "            print(f'total cost = {total_cost}\\nitem cost = {item_cost}')\n",
    "\n",
    "        if total_cost >=200:\n",
    "            \n",
    "            total_cost = total_cost *0.80\n",
    "            \n",
    "            print(f\"your total cost after 20% discount = {total_cost}\")\n",
    "        \n",
    "        Q = input(\"enter (y) to restart\")\n",
    "        \n",
    "        if Q == \"y\":\n",
    "        \n",
    "            continue\n",
    "        \n",
    "        else:\n",
    "        \n",
    "            break"
   ]
  },
  {
   "cell_type": "code",
   "execution_count": null,
   "id": "4110e344-113f-4a68-aa6f-817e1b38d264",
   "metadata": {},
   "outputs": [],
   "source": []
  }
 ],
 "metadata": {
  "kernelspec": {
   "display_name": "Python 3 (ipykernel)",
   "language": "python",
   "name": "python3"
  },
  "language_info": {
   "codemirror_mode": {
    "name": "ipython",
    "version": 3
   },
   "file_extension": ".py",
   "mimetype": "text/x-python",
   "name": "python",
   "nbconvert_exporter": "python",
   "pygments_lexer": "ipython3",
   "version": "3.9.13"
  }
 },
 "nbformat": 4,
 "nbformat_minor": 5
}
