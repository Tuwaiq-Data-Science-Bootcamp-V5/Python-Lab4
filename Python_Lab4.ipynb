{
 "cells": [
  {
   "cell_type": "code",
   "execution_count": 24,
   "id": "50d50e2f-6ee0-40fd-92b0-64afb3059934",
   "metadata": {},
   "outputs": [
    {
     "name": "stdin",
     "output_type": "stream",
     "text": [
      "\n",
      "What is your name? Khawlah\n",
      "How old are you? 32\n",
      "How many items would you like to buy? 2\n",
      "Item name: t1\n",
      "Item quantity: 10\n",
      "Item price: 100\n"
     ]
    },
    {
     "name": "stdout",
     "output_type": "stream",
     "text": [
      "\n",
      "Item cost: 1000.0\n",
      "Total cost: 1000.0 \n",
      "\n"
     ]
    },
    {
     "name": "stdin",
     "output_type": "stream",
     "text": [
      "Item name: t2\n",
      "Item quantity: 9\n",
      "Item price: 90\n"
     ]
    },
    {
     "name": "stdout",
     "output_type": "stream",
     "text": [
      "\n",
      "Item cost: 810.0\n",
      "Total cost: 1810.0 \n",
      "\n",
      "You got a 20% discount!\n",
      "Final cost: 1448.0 \n",
      "\n"
     ]
    },
    {
     "name": "stdin",
     "output_type": "stream",
     "text": [
      "Do you want to repeat the process? enter y for yes or any letter to exit: y\n",
      "\n",
      "What is your name? Khawlah\n",
      "How old are you? 6\n"
     ]
    },
    {
     "name": "stdout",
     "output_type": "stream",
     "text": [
      "Kid\n",
      "\n"
     ]
    }
   ],
   "source": [
    "flag = True \n",
    "\n",
    "while (flag):\n",
    "    try:\n",
    "        name = input(\"\\nWhat is your name?\")\n",
    "        age = int(input(\"How old are you?\"))\n",
    "\n",
    "        if age <= 0:\n",
    "            print(\"Wrong age value, you can not enter value 0 or less.\")\n",
    "        elif age <= 6:\n",
    "            print(\"Kid\\n\")\n",
    "            break\n",
    "        else:\n",
    "            total_cost = 0\n",
    "            counter = int(input(\"How many items would you like to buy?\"))\n",
    "                \n",
    "            for i in range(0 , counter):\n",
    "                item_name = input(\"Item name:\")\n",
    "                item_quantity = int(input(\"Item quantity:\"))    \n",
    "                item_price = float(input(\"Item price:\"))\n",
    "                item_cost = item_price * item_quantity\n",
    "                total_cost += item_cost\n",
    "                print(f'\\nItem cost: {item_cost}')\n",
    "                print(f'Total cost: {total_cost} \\n')\n",
    "\n",
    "            if total_cost > 200:\n",
    "                total_cost -= total_cost * 0.2\n",
    "                print(\"You got a 20% discount!\")\n",
    "                    \n",
    "            print(f'Final cost: {total_cost} \\n')\n",
    "  \n",
    "    except Exception as e:\n",
    "        print(\"wrong input! Try again..\")\n",
    "        \n",
    "\n",
    "    try:\n",
    "        repeat = input(\"Do you want to repeat the process? enter y for yes or any letter to exit:\")\n",
    "        if repeat.lower() != 'y':\n",
    "            flag = False\n",
    "    except Exception as e:\n",
    "        flag = False\n",
    "     \n",
    "\n",
    "        \n",
    "\n"
   ]
  },
  {
   "cell_type": "code",
   "execution_count": null,
   "id": "f96e5958-134f-4d42-b421-9a505156705e",
   "metadata": {},
   "outputs": [],
   "source": []
  }
 ],
 "metadata": {
  "kernelspec": {
   "display_name": "Python 3 (ipykernel)",
   "language": "python",
   "name": "python3"
  },
  "language_info": {
   "codemirror_mode": {
    "name": "ipython",
    "version": 3
   },
   "file_extension": ".py",
   "mimetype": "text/x-python",
   "name": "python",
   "nbconvert_exporter": "python",
   "pygments_lexer": "ipython3",
   "version": "3.10.11"
  }
 },
 "nbformat": 4,
 "nbformat_minor": 5
}
