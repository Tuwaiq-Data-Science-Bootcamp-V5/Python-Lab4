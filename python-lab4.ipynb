{
 "cells": [
  {
   "cell_type": "code",
   "execution_count": 17,
   "id": "a2f4588e",
   "metadata": {},
   "outputs": [
    {
     "name": "stdout",
     "output_type": "stream",
     "text": [
      "enter your name :wrf\n",
      "enter your age :541\n",
      "how many items you want to buy?1\n",
      "enter the item name:werfw\n",
      "enter the item price:2000\n",
      "enter the item quantity:1\n",
      "total cost = 2000\n",
      "item cost = 2000\n",
      "your total cost after 20% discount = 1600.0\n",
      "enter (y) to restartn\n"
     ]
    }
   ],
   "source": [
    "total_cost = 0\n",
    "while (1):\n",
    "    name = input(\"enter your name :\")\n",
    "    age = int(input(\"enter your age :\"))\n",
    "    if age <= 0:\n",
    "        print(\"Wrong age value, you can not enter value 0 or less.\")\n",
    "    elif age < 6:\n",
    "        print(\"kid\")\n",
    "    else:\n",
    "        x = int(input(\"how many items you want to buy?\"))\n",
    "        for item in range (x):\n",
    "            item_name = input(\"enter the item name:\")\n",
    "            item_price = int(input(\"enter the item price:\"))\n",
    "            item_quantity = int(input(\"enter the item quantity:\"))\n",
    "            item_cost = item_price*item_quantity\n",
    "            total_cost = total_cost + item_cost\n",
    "            print(f'total cost = {total_cost}\\nitem cost = {item_cost}')\n",
    "\n",
    "        if total_cost >=200:\n",
    "            total_cost = total_cost *0.80\n",
    "            print(f\"your total cost after 20% discount = {total_cost}\")\n",
    "        Q = input(\"enter (y) to restart\")\n",
    "        if Q == \"y\":\n",
    "            continue\n",
    "        else:\n",
    "            break"
   ]
  },
  {
   "cell_type": "code",
   "execution_count": null,
   "id": "5a26cc3d",
   "metadata": {},
   "outputs": [],
   "source": []
  }
 ],
 "metadata": {
  "kernelspec": {
   "display_name": "Python 3 (ipykernel)",
   "language": "python",
   "name": "python3"
  },
  "language_info": {
   "codemirror_mode": {
    "name": "ipython",
    "version": 3
   },
   "file_extension": ".py",
   "mimetype": "text/x-python",
   "name": "python",
   "nbconvert_exporter": "python",
   "pygments_lexer": "ipython3",
   "version": "3.9.12"
  }
 },
 "nbformat": 4,
 "nbformat_minor": 5
}
