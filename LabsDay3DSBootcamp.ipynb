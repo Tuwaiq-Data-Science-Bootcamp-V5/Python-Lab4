{
 "cells": [
  {
   "cell_type": "code",
   "execution_count": null,
   "id": "a196da06",
   "metadata": {},
   "outputs": [],
   "source": [
    "#Lab1\n",
    "favorate_season=\"Summer\"\n",
    "\n",
    "x=1\n",
    "y=1.0\n",
    "\n",
    "\n",
    "first_name=Last_name=\"abdulaziz Abanmi\"\n",
    "print(first_name)\n",
    "print(Last_name)\n",
    "\n",
    "\n",
    "f_name,m_name=\"azooz\",\"fahad\"\n",
    "\n"
   ]
  },
  {
   "cell_type": "code",
   "execution_count": null,
   "id": "8f505507",
   "metadata": {},
   "outputs": [],
   "source": [
    "#Lab 2\n",
    "\n",
    "movi=\"the gadFather\"\n",
    "rate=4\n",
    "popularity=90\n",
    "\n",
    "if rate<=2 and popularity<=50:\n",
    "    print(\"Don't watch it, It is a waste of time\")\n",
    "         \n",
    "elif(rate<=2 and popularity<=60):\n",
    "    print(\"You should check it out\")\n",
    "            \n",
    "elif(rate<=3 and popularity<=70):\n",
    "    print(\"I recommended it, It is good\")\n",
    "        \n",
    "elif(rate>=4 and popularity>=80):\n",
    "    print(\"Highly recommended\")\n",
    "        \n",
    "      \n"
   ]
  },
  {
   "cell_type": "code",
   "execution_count": null,
   "id": "131b0d90",
   "metadata": {},
   "outputs": [],
   "source": [
    "#Lab-3\n",
    "\n",
    "for num in range(45,210):\n",
    "    if(num == 100):\n",
    "        continue\n",
    "    if num ==205:\n",
    "        break\n",
    "    print(num)"
   ]
  },
  {
   "cell_type": "code",
   "execution_count": null,
   "id": "b4e5178e",
   "metadata": {},
   "outputs": [],
   "source": [
    "answer= False\n",
    "while(answer==False):\n",
    "    ask=int(input(\"what is the product of 7 * 24 =\"))\n",
    "    if(ask==7*24):\n",
    "        answer=True\n"
   ]
  },
  {
   "cell_type": "code",
   "execution_count": 3,
   "id": "da505d5b",
   "metadata": {},
   "outputs": [
    {
     "name": "stdout",
     "output_type": "stream",
     "text": [
      "enter your Name : a\n",
      "enter your age : 8\n",
      "number of itemes want to buy :5\n",
      "enter the Name of item : a\n",
      "enter the price of item : 1\n",
      "enter the quantity of item : 1\n",
      "total cost 1.0\n",
      "enter the Name of item : b\n",
      "enter the price of item : 2\n",
      "enter the quantity of item : 2\n",
      "total cost 5.0\n",
      "enter the Name of item : c\n",
      "enter the price of item : 3\n",
      "enter the quantity of item : 100\n",
      "total cost 305.0\n",
      "enter the Name of item : d\n",
      "enter the price of item : 54.567\n",
      "enter the quantity of item : 12\n",
      "total cost 959.804\n",
      "enter the Name of item : s\n",
      "enter the price of item : 190.2345\n",
      "enter the quantity of item : 2\n",
      "total cost 1340.273\n",
      "u r special so we give u discount %20 and the total cost Now :  1072.2184\n",
      "do u want to repeat the same process,enter yes or no : no\n"
     ]
    }
   ],
   "source": [
    "#lab 4\n",
    "repeat='yes'\n",
    "while repeat=='yes':\n",
    "    name=input(\"enter your Name : \")\n",
    "    age = int(input(\"enter your age : \"))\n",
    "\n",
    "    if age <=0 :\n",
    "\n",
    "        print(\"Wrong age value, you can not enter value 0 or less\")\n",
    "    elif age<=6:\n",
    "        print('Kid')\n",
    "    else:\n",
    "        total_cost=0.0\n",
    "        number_items=int(input(\"number of itemes want to buy :\"))\n",
    "        i=0\n",
    "        while i < number_items:\n",
    "            i+=1\n",
    "            name_item=input(\"enter the Name of item : \")\n",
    "            price=float(input(\"enter the price of item : \"))\n",
    "            quantity=int (input(\"enter the quantity of item : \"))\n",
    "            total=price*quantity\n",
    "            total_cost+=total\n",
    "            print(\"total cost\",total_cost)\n",
    "        if total_cost>200:\n",
    "            discount=total_cost*0.2\n",
    "            total_cost-=discount\n",
    "            print (\"u r special so we give u discount %20 and the total cost Now : \", total_cost)\n",
    "        repeat=input(\"do u want to repeat the same process,enter yes or no : \")\n",
    "    \n",
    "    \n",
    "\n"
   ]
  },
  {
   "cell_type": "code",
   "execution_count": null,
   "id": "8faa1865",
   "metadata": {},
   "outputs": [],
   "source": []
  },
  {
   "cell_type": "code",
   "execution_count": null,
   "id": "ec18db0d",
   "metadata": {},
   "outputs": [],
   "source": []
  }
 ],
 "metadata": {
  "kernelspec": {
   "display_name": "Python 3 (ipykernel)",
   "language": "python",
   "name": "python3"
  },
  "language_info": {
   "codemirror_mode": {
    "name": "ipython",
    "version": 3
   },
   "file_extension": ".py",
   "mimetype": "text/x-python",
   "name": "python",
   "nbconvert_exporter": "python",
   "pygments_lexer": "ipython3",
   "version": "3.9.13"
  }
 },
 "nbformat": 4,
 "nbformat_minor": 5
}
